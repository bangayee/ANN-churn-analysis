{
  "nbformat": 4,
  "nbformat_minor": 0,
  "metadata": {
    "colab": {
      "name": "ANN-Churn_Analysis.ipynb",
      "provenance": []
    },
    "kernelspec": {
      "display_name": "Python 3",
      "name": "python3"
    },
    "language_info": {
      "name": "python"
    }
  },
  "cells": [
    {
      "cell_type": "markdown",
      "metadata": {
        "id": "lP6JLo1tGNBg"
      },
      "source": [
        "# Artificial Neural Network"
      ]
    },
    {
      "cell_type": "markdown",
      "metadata": {
        "id": "gWZyYmS_UE_L"
      },
      "source": [
        "### Importing the libraries"
      ]
    },
    {
      "cell_type": "code",
      "metadata": {
        "id": "vxzsuKxSHlda"
      },
      "source": [
        "import numpy as np\n",
        "import pandas as pd\n",
        "import tensorflow as tf\n",
        "import matplotlib.pyplot as plt\n",
        "import seaborn as sns"
      ],
      "execution_count": null,
      "outputs": []
    },
    {
      "cell_type": "code",
      "metadata": {
        "colab": {
          "base_uri": "https://localhost:8080/",
          "height": 35
        },
        "id": "A9mIqyg5Ht-M",
        "outputId": "413991c4-bc7a-4efb-d242-08b93cb255b1"
      },
      "source": [
        "tf.__version__"
      ],
      "execution_count": null,
      "outputs": [
        {
          "data": {
            "application/vnd.google.colaboratory.intrinsic+json": {
              "type": "string"
            },
            "text/plain": [
              "'2.6.0'"
            ]
          },
          "execution_count": 4,
          "metadata": {},
          "output_type": "execute_result"
        }
      ]
    },
    {
      "cell_type": "code",
      "metadata": {
        "colab": {
          "base_uri": "https://localhost:8080/"
        },
        "id": "1zZpU6Si-oqE",
        "outputId": "7556318d-2d03-4fc9-9fca-58b26c4e27a3"
      },
      "source": [
        "from google.colab import drive\n",
        "drive.mount('/content/drive')"
      ],
      "execution_count": null,
      "outputs": [
        {
          "output_type": "stream",
          "name": "stdout",
          "text": [
            "Mounted at /content/drive\n"
          ]
        }
      ]
    },
    {
      "cell_type": "code",
      "metadata": {
        "colab": {
          "base_uri": "https://localhost:8080/",
          "height": 443
        },
        "id": "XuDXCqeR-zvK",
        "outputId": "7e1e05d0-4415-43be-f0ba-abc4e3026b44"
      },
      "source": [
        "data = pd.read_csv(\"/content/drive/MyDrive/Data Science - DS/Churn_Modelling.csv\")\n",
        "data"
      ],
      "execution_count": null,
      "outputs": [
        {
          "output_type": "execute_result",
          "data": {
            "text/html": [
              "<div>\n",
              "<style scoped>\n",
              "    .dataframe tbody tr th:only-of-type {\n",
              "        vertical-align: middle;\n",
              "    }\n",
              "\n",
              "    .dataframe tbody tr th {\n",
              "        vertical-align: top;\n",
              "    }\n",
              "\n",
              "    .dataframe thead th {\n",
              "        text-align: right;\n",
              "    }\n",
              "</style>\n",
              "<table border=\"1\" class=\"dataframe\">\n",
              "  <thead>\n",
              "    <tr style=\"text-align: right;\">\n",
              "      <th></th>\n",
              "      <th>RowNumber</th>\n",
              "      <th>CustomerId</th>\n",
              "      <th>Surname</th>\n",
              "      <th>CreditScore</th>\n",
              "      <th>Geography</th>\n",
              "      <th>Gender</th>\n",
              "      <th>Age</th>\n",
              "      <th>Tenure</th>\n",
              "      <th>Balance</th>\n",
              "      <th>NumOfProducts</th>\n",
              "      <th>HasCrCard</th>\n",
              "      <th>IsActiveMember</th>\n",
              "      <th>EstimatedSalary</th>\n",
              "      <th>Exited</th>\n",
              "    </tr>\n",
              "  </thead>\n",
              "  <tbody>\n",
              "    <tr>\n",
              "      <th>0</th>\n",
              "      <td>1</td>\n",
              "      <td>15634602</td>\n",
              "      <td>Hargrave</td>\n",
              "      <td>619</td>\n",
              "      <td>France</td>\n",
              "      <td>Female</td>\n",
              "      <td>42</td>\n",
              "      <td>2</td>\n",
              "      <td>0.00</td>\n",
              "      <td>1</td>\n",
              "      <td>1</td>\n",
              "      <td>1</td>\n",
              "      <td>101348.88</td>\n",
              "      <td>1</td>\n",
              "    </tr>\n",
              "    <tr>\n",
              "      <th>1</th>\n",
              "      <td>2</td>\n",
              "      <td>15647311</td>\n",
              "      <td>Hill</td>\n",
              "      <td>608</td>\n",
              "      <td>Spain</td>\n",
              "      <td>Female</td>\n",
              "      <td>41</td>\n",
              "      <td>1</td>\n",
              "      <td>83807.86</td>\n",
              "      <td>1</td>\n",
              "      <td>0</td>\n",
              "      <td>1</td>\n",
              "      <td>112542.58</td>\n",
              "      <td>0</td>\n",
              "    </tr>\n",
              "    <tr>\n",
              "      <th>2</th>\n",
              "      <td>3</td>\n",
              "      <td>15619304</td>\n",
              "      <td>Onio</td>\n",
              "      <td>502</td>\n",
              "      <td>France</td>\n",
              "      <td>Female</td>\n",
              "      <td>42</td>\n",
              "      <td>8</td>\n",
              "      <td>159660.80</td>\n",
              "      <td>3</td>\n",
              "      <td>1</td>\n",
              "      <td>0</td>\n",
              "      <td>113931.57</td>\n",
              "      <td>1</td>\n",
              "    </tr>\n",
              "    <tr>\n",
              "      <th>3</th>\n",
              "      <td>4</td>\n",
              "      <td>15701354</td>\n",
              "      <td>Boni</td>\n",
              "      <td>699</td>\n",
              "      <td>France</td>\n",
              "      <td>Female</td>\n",
              "      <td>39</td>\n",
              "      <td>1</td>\n",
              "      <td>0.00</td>\n",
              "      <td>2</td>\n",
              "      <td>0</td>\n",
              "      <td>0</td>\n",
              "      <td>93826.63</td>\n",
              "      <td>0</td>\n",
              "    </tr>\n",
              "    <tr>\n",
              "      <th>4</th>\n",
              "      <td>5</td>\n",
              "      <td>15737888</td>\n",
              "      <td>Mitchell</td>\n",
              "      <td>850</td>\n",
              "      <td>Spain</td>\n",
              "      <td>Female</td>\n",
              "      <td>43</td>\n",
              "      <td>2</td>\n",
              "      <td>125510.82</td>\n",
              "      <td>1</td>\n",
              "      <td>1</td>\n",
              "      <td>1</td>\n",
              "      <td>79084.10</td>\n",
              "      <td>0</td>\n",
              "    </tr>\n",
              "    <tr>\n",
              "      <th>...</th>\n",
              "      <td>...</td>\n",
              "      <td>...</td>\n",
              "      <td>...</td>\n",
              "      <td>...</td>\n",
              "      <td>...</td>\n",
              "      <td>...</td>\n",
              "      <td>...</td>\n",
              "      <td>...</td>\n",
              "      <td>...</td>\n",
              "      <td>...</td>\n",
              "      <td>...</td>\n",
              "      <td>...</td>\n",
              "      <td>...</td>\n",
              "      <td>...</td>\n",
              "    </tr>\n",
              "    <tr>\n",
              "      <th>9995</th>\n",
              "      <td>9996</td>\n",
              "      <td>15606229</td>\n",
              "      <td>Obijiaku</td>\n",
              "      <td>771</td>\n",
              "      <td>France</td>\n",
              "      <td>Male</td>\n",
              "      <td>39</td>\n",
              "      <td>5</td>\n",
              "      <td>0.00</td>\n",
              "      <td>2</td>\n",
              "      <td>1</td>\n",
              "      <td>0</td>\n",
              "      <td>96270.64</td>\n",
              "      <td>0</td>\n",
              "    </tr>\n",
              "    <tr>\n",
              "      <th>9996</th>\n",
              "      <td>9997</td>\n",
              "      <td>15569892</td>\n",
              "      <td>Johnstone</td>\n",
              "      <td>516</td>\n",
              "      <td>France</td>\n",
              "      <td>Male</td>\n",
              "      <td>35</td>\n",
              "      <td>10</td>\n",
              "      <td>57369.61</td>\n",
              "      <td>1</td>\n",
              "      <td>1</td>\n",
              "      <td>1</td>\n",
              "      <td>101699.77</td>\n",
              "      <td>0</td>\n",
              "    </tr>\n",
              "    <tr>\n",
              "      <th>9997</th>\n",
              "      <td>9998</td>\n",
              "      <td>15584532</td>\n",
              "      <td>Liu</td>\n",
              "      <td>709</td>\n",
              "      <td>France</td>\n",
              "      <td>Female</td>\n",
              "      <td>36</td>\n",
              "      <td>7</td>\n",
              "      <td>0.00</td>\n",
              "      <td>1</td>\n",
              "      <td>0</td>\n",
              "      <td>1</td>\n",
              "      <td>42085.58</td>\n",
              "      <td>1</td>\n",
              "    </tr>\n",
              "    <tr>\n",
              "      <th>9998</th>\n",
              "      <td>9999</td>\n",
              "      <td>15682355</td>\n",
              "      <td>Sabbatini</td>\n",
              "      <td>772</td>\n",
              "      <td>Germany</td>\n",
              "      <td>Male</td>\n",
              "      <td>42</td>\n",
              "      <td>3</td>\n",
              "      <td>75075.31</td>\n",
              "      <td>2</td>\n",
              "      <td>1</td>\n",
              "      <td>0</td>\n",
              "      <td>92888.52</td>\n",
              "      <td>1</td>\n",
              "    </tr>\n",
              "    <tr>\n",
              "      <th>9999</th>\n",
              "      <td>10000</td>\n",
              "      <td>15628319</td>\n",
              "      <td>Walker</td>\n",
              "      <td>792</td>\n",
              "      <td>France</td>\n",
              "      <td>Female</td>\n",
              "      <td>28</td>\n",
              "      <td>4</td>\n",
              "      <td>130142.79</td>\n",
              "      <td>1</td>\n",
              "      <td>1</td>\n",
              "      <td>0</td>\n",
              "      <td>38190.78</td>\n",
              "      <td>0</td>\n",
              "    </tr>\n",
              "  </tbody>\n",
              "</table>\n",
              "<p>10000 rows × 14 columns</p>\n",
              "</div>"
            ],
            "text/plain": [
              "      RowNumber  CustomerId    Surname  ...  IsActiveMember EstimatedSalary Exited\n",
              "0             1    15634602   Hargrave  ...               1       101348.88      1\n",
              "1             2    15647311       Hill  ...               1       112542.58      0\n",
              "2             3    15619304       Onio  ...               0       113931.57      1\n",
              "3             4    15701354       Boni  ...               0        93826.63      0\n",
              "4             5    15737888   Mitchell  ...               1        79084.10      0\n",
              "...         ...         ...        ...  ...             ...             ...    ...\n",
              "9995       9996    15606229   Obijiaku  ...               0        96270.64      0\n",
              "9996       9997    15569892  Johnstone  ...               1       101699.77      0\n",
              "9997       9998    15584532        Liu  ...               1        42085.58      1\n",
              "9998       9999    15682355  Sabbatini  ...               0        92888.52      1\n",
              "9999      10000    15628319     Walker  ...               0        38190.78      0\n",
              "\n",
              "[10000 rows x 14 columns]"
            ]
          },
          "metadata": {},
          "execution_count": 36
        }
      ]
    },
    {
      "cell_type": "code",
      "metadata": {
        "colab": {
          "base_uri": "https://localhost:8080/",
          "height": 265
        },
        "id": "LwCJXou8ylnu",
        "outputId": "f4f8cada-b8a9-4def-9027-80961d2dd584"
      },
      "source": [
        "\n",
        "dt = data.groupby(\"Exited\")[\"Exited\"].count()\n",
        "dt.plot.pie(autopct=\"%.1f%%\")"
      ],
      "execution_count": null,
      "outputs": [
        {
          "output_type": "execute_result",
          "data": {
            "text/plain": [
              "<matplotlib.axes._subplots.AxesSubplot at 0x7f3799c1f250>"
            ]
          },
          "metadata": {},
          "execution_count": 37
        },
        {
          "output_type": "display_data",
          "data": {
            "image/png": "[encoded data removed]",
            "text/plain": [
              "<Figure size 432x288 with 1 Axes>"
            ]
          },
          "metadata": {}
        }
      ]
    },
    {
      "cell_type": "markdown",
      "metadata": {
        "id": "1E0Q3aoKUCRX"
      },
      "source": [
        "## Part 1 - Data Preprocessing"
      ]
    },
    {
      "cell_type": "markdown",
      "metadata": {
        "id": "cKWAkFVGUU0Z"
      },
      "source": [
        "### Importing the dataset"
      ]
    },
    {
      "cell_type": "code",
      "metadata": {
        "colab": {
          "base_uri": "https://localhost:8080/",
          "height": 226
        },
        "id": "dqGdCJfHJt3D",
        "outputId": "d8df63d0-60cc-40a0-9838-df3b053d8606"
      },
      "source": [
        "path = '/content/drive/MyDrive/Data Science - DS/Churn_Modelling.csv'\n",
        "\n",
        "df = pd.read_csv(path)\n",
        "df.head()"
      ],
      "execution_count": null,
      "outputs": [
        {
          "output_type": "execute_result",
          "data": {
            "text/html": [
              "<div>\n",
              "<style scoped>\n",
              "    .dataframe tbody tr th:only-of-type {\n",
              "        vertical-align: middle;\n",
              "    }\n",
              "\n",
              "    .dataframe tbody tr th {\n",
              "        vertical-align: top;\n",
              "    }\n",
              "\n",
              "    .dataframe thead th {\n",
              "        text-align: right;\n",
              "    }\n",
              "</style>\n",
              "<table border=\"1\" class=\"dataframe\">\n",
              "  <thead>\n",
              "    <tr style=\"text-align: right;\">\n",
              "      <th></th>\n",
              "      <th>RowNumber</th>\n",
              "      <th>CustomerId</th>\n",
              "      <th>Surname</th>\n",
              "      <th>CreditScore</th>\n",
              "      <th>Geography</th>\n",
              "      <th>Gender</th>\n",
              "      <th>Age</th>\n",
              "      <th>Tenure</th>\n",
              "      <th>Balance</th>\n",
              "      <th>NumOfProducts</th>\n",
              "      <th>HasCrCard</th>\n",
              "      <th>IsActiveMember</th>\n",
              "      <th>EstimatedSalary</th>\n",
              "      <th>Exited</th>\n",
              "    </tr>\n",
              "  </thead>\n",
              "  <tbody>\n",
              "    <tr>\n",
              "      <th>0</th>\n",
              "      <td>1</td>\n",
              "      <td>15634602</td>\n",
              "      <td>Hargrave</td>\n",
              "      <td>619</td>\n",
              "      <td>France</td>\n",
              "      <td>Female</td>\n",
              "      <td>42</td>\n",
              "      <td>2</td>\n",
              "      <td>0.00</td>\n",
              "      <td>1</td>\n",
              "      <td>1</td>\n",
              "      <td>1</td>\n",
              "      <td>101348.88</td>\n",
              "      <td>1</td>\n",
              "    </tr>\n",
              "    <tr>\n",
              "      <th>1</th>\n",
              "      <td>2</td>\n",
              "      <td>15647311</td>\n",
              "      <td>Hill</td>\n",
              "      <td>608</td>\n",
              "      <td>Spain</td>\n",
              "      <td>Female</td>\n",
              "      <td>41</td>\n",
              "      <td>1</td>\n",
              "      <td>83807.86</td>\n",
              "      <td>1</td>\n",
              "      <td>0</td>\n",
              "      <td>1</td>\n",
              "      <td>112542.58</td>\n",
              "      <td>0</td>\n",
              "    </tr>\n",
              "    <tr>\n",
              "      <th>2</th>\n",
              "      <td>3</td>\n",
              "      <td>15619304</td>\n",
              "      <td>Onio</td>\n",
              "      <td>502</td>\n",
              "      <td>France</td>\n",
              "      <td>Female</td>\n",
              "      <td>42</td>\n",
              "      <td>8</td>\n",
              "      <td>159660.80</td>\n",
              "      <td>3</td>\n",
              "      <td>1</td>\n",
              "      <td>0</td>\n",
              "      <td>113931.57</td>\n",
              "      <td>1</td>\n",
              "    </tr>\n",
              "    <tr>\n",
              "      <th>3</th>\n",
              "      <td>4</td>\n",
              "      <td>15701354</td>\n",
              "      <td>Boni</td>\n",
              "      <td>699</td>\n",
              "      <td>France</td>\n",
              "      <td>Female</td>\n",
              "      <td>39</td>\n",
              "      <td>1</td>\n",
              "      <td>0.00</td>\n",
              "      <td>2</td>\n",
              "      <td>0</td>\n",
              "      <td>0</td>\n",
              "      <td>93826.63</td>\n",
              "      <td>0</td>\n",
              "    </tr>\n",
              "    <tr>\n",
              "      <th>4</th>\n",
              "      <td>5</td>\n",
              "      <td>15737888</td>\n",
              "      <td>Mitchell</td>\n",
              "      <td>850</td>\n",
              "      <td>Spain</td>\n",
              "      <td>Female</td>\n",
              "      <td>43</td>\n",
              "      <td>2</td>\n",
              "      <td>125510.82</td>\n",
              "      <td>1</td>\n",
              "      <td>1</td>\n",
              "      <td>1</td>\n",
              "      <td>79084.10</td>\n",
              "      <td>0</td>\n",
              "    </tr>\n",
              "  </tbody>\n",
              "</table>\n",
              "</div>"
            ],
            "text/plain": [
              "   RowNumber  CustomerId   Surname  ...  IsActiveMember EstimatedSalary Exited\n",
              "0          1    15634602  Hargrave  ...               1       101348.88      1\n",
              "1          2    15647311      Hill  ...               1       112542.58      0\n",
              "2          3    15619304      Onio  ...               0       113931.57      1\n",
              "3          4    15701354      Boni  ...               0        93826.63      0\n",
              "4          5    15737888  Mitchell  ...               1        79084.10      0\n",
              "\n",
              "[5 rows x 14 columns]"
            ]
          },
          "metadata": {},
          "execution_count": 5
        }
      ]
    },
    {
      "cell_type": "code",
      "metadata": {
        "id": "s62S6Hdg_m9q"
      },
      "source": [
        ""
      ],
      "execution_count": null,
      "outputs": []
    },
    {
      "cell_type": "markdown",
      "metadata": {
        "id": "kKDcHIOB_fP5"
      },
      "source": [
        "### One Hot Encoding"
      ]
    },
    {
      "cell_type": "code",
      "metadata": {
        "colab": {
          "base_uri": "https://localhost:8080/",
          "height": 443
        },
        "id": "fm4u0MKH_ebH",
        "outputId": "e85cec3b-dd7d-43f2-89d9-1caf63932fb5"
      },
      "source": [
        "# One Hot Encoder\n",
        "df = pd.get_dummies(data, columns=['Gender'], drop_first=True)\n",
        "df = pd.get_dummies(df, columns=['Geography'], drop_first=True)\n",
        "df"
      ],
      "execution_count": null,
      "outputs": [
        {
          "output_type": "execute_result",
          "data": {
            "text/html": [
              "<div>\n",
              "<style scoped>\n",
              "    .dataframe tbody tr th:only-of-type {\n",
              "        vertical-align: middle;\n",
              "    }\n",
              "\n",
              "    .dataframe tbody tr th {\n",
              "        vertical-align: top;\n",
              "    }\n",
              "\n",
              "    .dataframe thead th {\n",
              "        text-align: right;\n",
              "    }\n",
              "</style>\n",
              "<table border=\"1\" class=\"dataframe\">\n",
              "  <thead>\n",
              "    <tr style=\"text-align: right;\">\n",
              "      <th></th>\n",
              "      <th>RowNumber</th>\n",
              "      <th>CustomerId</th>\n",
              "      <th>Surname</th>\n",
              "      <th>CreditScore</th>\n",
              "      <th>Age</th>\n",
              "      <th>Tenure</th>\n",
              "      <th>Balance</th>\n",
              "      <th>NumOfProducts</th>\n",
              "      <th>HasCrCard</th>\n",
              "      <th>IsActiveMember</th>\n",
              "      <th>EstimatedSalary</th>\n",
              "      <th>Exited</th>\n",
              "      <th>Gender_Male</th>\n",
              "      <th>Geography_Germany</th>\n",
              "      <th>Geography_Spain</th>\n",
              "    </tr>\n",
              "  </thead>\n",
              "  <tbody>\n",
              "    <tr>\n",
              "      <th>0</th>\n",
              "      <td>1</td>\n",
              "      <td>15634602</td>\n",
              "      <td>Hargrave</td>\n",
              "      <td>619</td>\n",
              "      <td>42</td>\n",
              "      <td>2</td>\n",
              "      <td>0.00</td>\n",
              "      <td>1</td>\n",
              "      <td>1</td>\n",
              "      <td>1</td>\n",
              "      <td>101348.88</td>\n",
              "      <td>1</td>\n",
              "      <td>0</td>\n",
              "      <td>0</td>\n",
              "      <td>0</td>\n",
              "    </tr>\n",
              "    <tr>\n",
              "      <th>1</th>\n",
              "      <td>2</td>\n",
              "      <td>15647311</td>\n",
              "      <td>Hill</td>\n",
              "      <td>608</td>\n",
              "      <td>41</td>\n",
              "      <td>1</td>\n",
              "      <td>83807.86</td>\n",
              "      <td>1</td>\n",
              "      <td>0</td>\n",
              "      <td>1</td>\n",
              "      <td>112542.58</td>\n",
              "      <td>0</td>\n",
              "      <td>0</td>\n",
              "      <td>0</td>\n",
              "      <td>1</td>\n",
              "    </tr>\n",
              "    <tr>\n",
              "      <th>2</th>\n",
              "      <td>3</td>\n",
              "      <td>15619304</td>\n",
              "      <td>Onio</td>\n",
              "      <td>502</td>\n",
              "      <td>42</td>\n",
              "      <td>8</td>\n",
              "      <td>159660.80</td>\n",
              "      <td>3</td>\n",
              "      <td>1</td>\n",
              "      <td>0</td>\n",
              "      <td>113931.57</td>\n",
              "      <td>1</td>\n",
              "      <td>0</td>\n",
              "      <td>0</td>\n",
              "      <td>0</td>\n",
              "    </tr>\n",
              "    <tr>\n",
              "      <th>3</th>\n",
              "      <td>4</td>\n",
              "      <td>15701354</td>\n",
              "      <td>Boni</td>\n",
              "      <td>699</td>\n",
              "      <td>39</td>\n",
              "      <td>1</td>\n",
              "      <td>0.00</td>\n",
              "      <td>2</td>\n",
              "      <td>0</td>\n",
              "      <td>0</td>\n",
              "      <td>93826.63</td>\n",
              "      <td>0</td>\n",
              "      <td>0</td>\n",
              "      <td>0</td>\n",
              "      <td>0</td>\n",
              "    </tr>\n",
              "    <tr>\n",
              "      <th>4</th>\n",
              "      <td>5</td>\n",
              "      <td>15737888</td>\n",
              "      <td>Mitchell</td>\n",
              "      <td>850</td>\n",
              "      <td>43</td>\n",
              "      <td>2</td>\n",
              "      <td>125510.82</td>\n",
              "      <td>1</td>\n",
              "      <td>1</td>\n",
              "      <td>1</td>\n",
              "      <td>79084.10</td>\n",
              "      <td>0</td>\n",
              "      <td>0</td>\n",
              "      <td>0</td>\n",
              "      <td>1</td>\n",
              "    </tr>\n",
              "    <tr>\n",
              "      <th>...</th>\n",
              "      <td>...</td>\n",
              "      <td>...</td>\n",
              "      <td>...</td>\n",
              "      <td>...</td>\n",
              "      <td>...</td>\n",
              "      <td>...</td>\n",
              "      <td>...</td>\n",
              "      <td>...</td>\n",
              "      <td>...</td>\n",
              "      <td>...</td>\n",
              "      <td>...</td>\n",
              "      <td>...</td>\n",
              "      <td>...</td>\n",
              "      <td>...</td>\n",
              "      <td>...</td>\n",
              "    </tr>\n",
              "    <tr>\n",
              "      <th>9995</th>\n",
              "      <td>9996</td>\n",
              "      <td>15606229</td>\n",
              "      <td>Obijiaku</td>\n",
              "      <td>771</td>\n",
              "      <td>39</td>\n",
              "      <td>5</td>\n",
              "      <td>0.00</td>\n",
              "      <td>2</td>\n",
              "      <td>1</td>\n",
              "      <td>0</td>\n",
              "      <td>96270.64</td>\n",
              "      <td>0</td>\n",
              "      <td>1</td>\n",
              "      <td>0</td>\n",
              "      <td>0</td>\n",
              "    </tr>\n",
              "    <tr>\n",
              "      <th>9996</th>\n",
              "      <td>9997</td>\n",
              "      <td>15569892</td>\n",
              "      <td>Johnstone</td>\n",
              "      <td>516</td>\n",
              "      <td>35</td>\n",
              "      <td>10</td>\n",
              "      <td>57369.61</td>\n",
              "      <td>1</td>\n",
              "      <td>1</td>\n",
              "      <td>1</td>\n",
              "      <td>101699.77</td>\n",
              "      <td>0</td>\n",
              "      <td>1</td>\n",
              "      <td>0</td>\n",
              "      <td>0</td>\n",
              "    </tr>\n",
              "    <tr>\n",
              "      <th>9997</th>\n",
              "      <td>9998</td>\n",
              "      <td>15584532</td>\n",
              "      <td>Liu</td>\n",
              "      <td>709</td>\n",
              "      <td>36</td>\n",
              "      <td>7</td>\n",
              "      <td>0.00</td>\n",
              "      <td>1</td>\n",
              "      <td>0</td>\n",
              "      <td>1</td>\n",
              "      <td>42085.58</td>\n",
              "      <td>1</td>\n",
              "      <td>0</td>\n",
              "      <td>0</td>\n",
              "      <td>0</td>\n",
              "    </tr>\n",
              "    <tr>\n",
              "      <th>9998</th>\n",
              "      <td>9999</td>\n",
              "      <td>15682355</td>\n",
              "      <td>Sabbatini</td>\n",
              "      <td>772</td>\n",
              "      <td>42</td>\n",
              "      <td>3</td>\n",
              "      <td>75075.31</td>\n",
              "      <td>2</td>\n",
              "      <td>1</td>\n",
              "      <td>0</td>\n",
              "      <td>92888.52</td>\n",
              "      <td>1</td>\n",
              "      <td>1</td>\n",
              "      <td>1</td>\n",
              "      <td>0</td>\n",
              "    </tr>\n",
              "    <tr>\n",
              "      <th>9999</th>\n",
              "      <td>10000</td>\n",
              "      <td>15628319</td>\n",
              "      <td>Walker</td>\n",
              "      <td>792</td>\n",
              "      <td>28</td>\n",
              "      <td>4</td>\n",
              "      <td>130142.79</td>\n",
              "      <td>1</td>\n",
              "      <td>1</td>\n",
              "      <td>0</td>\n",
              "      <td>38190.78</td>\n",
              "      <td>0</td>\n",
              "      <td>0</td>\n",
              "      <td>0</td>\n",
              "      <td>0</td>\n",
              "    </tr>\n",
              "  </tbody>\n",
              "</table>\n",
              "<p>10000 rows × 15 columns</p>\n",
              "</div>"
            ],
            "text/plain": [
              "      RowNumber  CustomerId  ... Geography_Germany  Geography_Spain\n",
              "0             1    15634602  ...                 0                0\n",
              "1             2    15647311  ...                 0                1\n",
              "2             3    15619304  ...                 0                0\n",
              "3             4    15701354  ...                 0                0\n",
              "4             5    15737888  ...                 0                1\n",
              "...         ...         ...  ...               ...              ...\n",
              "9995       9996    15606229  ...                 0                0\n",
              "9996       9997    15569892  ...                 0                0\n",
              "9997       9998    15584532  ...                 0                0\n",
              "9998       9999    15682355  ...                 1                0\n",
              "9999      10000    15628319  ...                 0                0\n",
              "\n",
              "[10000 rows x 15 columns]"
            ]
          },
          "metadata": {},
          "execution_count": 6
        }
      ]
    },
    {
      "cell_type": "code",
      "metadata": {
        "id": "oMzB44hoqIOB"
      },
      "source": [
        "df['IsActiveMember'] = [-1 if i==0 else 1 for i in df['IsActiveMember']]\n",
        "df['Gender_Male'] = [-1 if i==0 else 1 for i in df['Gender_Male']]\n",
        "df['Geography_Germany'] = [-1 if i==0 else 1 for i in df['Geography_Germany']]\n",
        "df['Geography_Spain'] = [-1 if i==0 else 1 for i in df['Geography_Spain']]\n",
        "df['HasCrCard'] = [-1 if i==0 else 1 for i in df['HasCrCard']]"
      ],
      "execution_count": null,
      "outputs": []
    },
    {
      "cell_type": "code",
      "metadata": {
        "id": "oR3uDrEn_20l",
        "colab": {
          "base_uri": "https://localhost:8080/",
          "height": 443
        },
        "outputId": "436d74b8-2ee4-4983-cc49-d42b3c4f935c"
      },
      "source": [
        "# X = df.drop(['Exited','RowNumber','CustomerId','Surname'], axis=1)\n",
        "X = df.drop(['Exited','RowNumber','CustomerId','Surname','Tenure','HasCrCard','EstimatedSalary'], axis=1)\n",
        "# \"Tenure\", \"HasCrCard\", \"EstimatedSalary\"\n",
        "y = df['Exited']\n",
        "X"
      ],
      "execution_count": null,
      "outputs": [
        {
          "output_type": "execute_result",
          "data": {
            "text/html": [
              "<div>\n",
              "<style scoped>\n",
              "    .dataframe tbody tr th:only-of-type {\n",
              "        vertical-align: middle;\n",
              "    }\n",
              "\n",
              "    .dataframe tbody tr th {\n",
              "        vertical-align: top;\n",
              "    }\n",
              "\n",
              "    .dataframe thead th {\n",
              "        text-align: right;\n",
              "    }\n",
              "</style>\n",
              "<table border=\"1\" class=\"dataframe\">\n",
              "  <thead>\n",
              "    <tr style=\"text-align: right;\">\n",
              "      <th></th>\n",
              "      <th>CreditScore</th>\n",
              "      <th>Age</th>\n",
              "      <th>Balance</th>\n",
              "      <th>NumOfProducts</th>\n",
              "      <th>IsActiveMember</th>\n",
              "      <th>Gender_Male</th>\n",
              "      <th>Geography_Germany</th>\n",
              "      <th>Geography_Spain</th>\n",
              "    </tr>\n",
              "  </thead>\n",
              "  <tbody>\n",
              "    <tr>\n",
              "      <th>0</th>\n",
              "      <td>619</td>\n",
              "      <td>42</td>\n",
              "      <td>0.00</td>\n",
              "      <td>1</td>\n",
              "      <td>1</td>\n",
              "      <td>0</td>\n",
              "      <td>0</td>\n",
              "      <td>0</td>\n",
              "    </tr>\n",
              "    <tr>\n",
              "      <th>1</th>\n",
              "      <td>608</td>\n",
              "      <td>41</td>\n",
              "      <td>83807.86</td>\n",
              "      <td>1</td>\n",
              "      <td>1</td>\n",
              "      <td>0</td>\n",
              "      <td>0</td>\n",
              "      <td>1</td>\n",
              "    </tr>\n",
              "    <tr>\n",
              "      <th>2</th>\n",
              "      <td>502</td>\n",
              "      <td>42</td>\n",
              "      <td>159660.80</td>\n",
              "      <td>3</td>\n",
              "      <td>0</td>\n",
              "      <td>0</td>\n",
              "      <td>0</td>\n",
              "      <td>0</td>\n",
              "    </tr>\n",
              "    <tr>\n",
              "      <th>3</th>\n",
              "      <td>699</td>\n",
              "      <td>39</td>\n",
              "      <td>0.00</td>\n",
              "      <td>2</td>\n",
              "      <td>0</td>\n",
              "      <td>0</td>\n",
              "      <td>0</td>\n",
              "      <td>0</td>\n",
              "    </tr>\n",
              "    <tr>\n",
              "      <th>4</th>\n",
              "      <td>850</td>\n",
              "      <td>43</td>\n",
              "      <td>125510.82</td>\n",
              "      <td>1</td>\n",
              "      <td>1</td>\n",
              "      <td>0</td>\n",
              "      <td>0</td>\n",
              "      <td>1</td>\n",
              "    </tr>\n",
              "    <tr>\n",
              "      <th>...</th>\n",
              "      <td>...</td>\n",
              "      <td>...</td>\n",
              "      <td>...</td>\n",
              "      <td>...</td>\n",
              "      <td>...</td>\n",
              "      <td>...</td>\n",
              "      <td>...</td>\n",
              "      <td>...</td>\n",
              "    </tr>\n",
              "    <tr>\n",
              "      <th>9995</th>\n",
              "      <td>771</td>\n",
              "      <td>39</td>\n",
              "      <td>0.00</td>\n",
              "      <td>2</td>\n",
              "      <td>0</td>\n",
              "      <td>1</td>\n",
              "      <td>0</td>\n",
              "      <td>0</td>\n",
              "    </tr>\n",
              "    <tr>\n",
              "      <th>9996</th>\n",
              "      <td>516</td>\n",
              "      <td>35</td>\n",
              "      <td>57369.61</td>\n",
              "      <td>1</td>\n",
              "      <td>1</td>\n",
              "      <td>1</td>\n",
              "      <td>0</td>\n",
              "      <td>0</td>\n",
              "    </tr>\n",
              "    <tr>\n",
              "      <th>9997</th>\n",
              "      <td>709</td>\n",
              "      <td>36</td>\n",
              "      <td>0.00</td>\n",
              "      <td>1</td>\n",
              "      <td>1</td>\n",
              "      <td>0</td>\n",
              "      <td>0</td>\n",
              "      <td>0</td>\n",
              "    </tr>\n",
              "    <tr>\n",
              "      <th>9998</th>\n",
              "      <td>772</td>\n",
              "      <td>42</td>\n",
              "      <td>75075.31</td>\n",
              "      <td>2</td>\n",
              "      <td>0</td>\n",
              "      <td>1</td>\n",
              "      <td>1</td>\n",
              "      <td>0</td>\n",
              "    </tr>\n",
              "    <tr>\n",
              "      <th>9999</th>\n",
              "      <td>792</td>\n",
              "      <td>28</td>\n",
              "      <td>130142.79</td>\n",
              "      <td>1</td>\n",
              "      <td>0</td>\n",
              "      <td>0</td>\n",
              "      <td>0</td>\n",
              "      <td>0</td>\n",
              "    </tr>\n",
              "  </tbody>\n",
              "</table>\n",
              "<p>10000 rows × 8 columns</p>\n",
              "</div>"
            ],
            "text/plain": [
              "      CreditScore  Age  ...  Geography_Germany  Geography_Spain\n",
              "0             619   42  ...                  0                0\n",
              "1             608   41  ...                  0                1\n",
              "2             502   42  ...                  0                0\n",
              "3             699   39  ...                  0                0\n",
              "4             850   43  ...                  0                1\n",
              "...           ...  ...  ...                ...              ...\n",
              "9995          771   39  ...                  0                0\n",
              "9996          516   35  ...                  0                0\n",
              "9997          709   36  ...                  0                0\n",
              "9998          772   42  ...                  1                0\n",
              "9999          792   28  ...                  0                0\n",
              "\n",
              "[10000 rows x 8 columns]"
            ]
          },
          "metadata": {},
          "execution_count": 7
        }
      ]
    },
    {
      "cell_type": "markdown",
      "metadata": {
        "id": "vLDOYfB2L6vE"
      },
      "source": [
        "### Train Test Split"
      ]
    },
    {
      "cell_type": "code",
      "metadata": {
        "id": "YP6CbVbwLjRt"
      },
      "source": [
        "from sklearn.model_selection import train_test_split\n",
        "X_train, X_test, y_train, y_test = train_test_split(X, y, test_size = 0.2, random_state = 20)"
      ],
      "execution_count": null,
      "outputs": []
    },
    {
      "cell_type": "markdown",
      "metadata": {
        "id": "uIxDmYwiL9wr"
      },
      "source": [
        "### Standard Scaling"
      ]
    },
    {
      "cell_type": "code",
      "metadata": {
        "id": "xnBM9EB3Lj78"
      },
      "source": [
        "from sklearn.preprocessing import StandardScaler\n",
        "sc = StandardScaler()\n",
        "X_train = sc.fit_transform(X_train)\n",
        "X_test = sc.transform(X_test)\n"
      ],
      "execution_count": null,
      "outputs": []
    },
    {
      "cell_type": "code",
      "metadata": {
        "colab": {
          "base_uri": "https://localhost:8080/"
        },
        "id": "E0dCyxFqSp_i",
        "outputId": "e91d5a5e-2e0b-4848-988f-2ca2b32262e0"
      },
      "source": [
        "# balancing dataset SMOTE\n",
        "X_train = pd.DataFrame(X_train, columns=X.columns)\n",
        "X_dummy = pd.get_dummies(X_train)\n",
        "X_dummy = X_dummy.fillna(0)\n",
        "\n",
        "from imblearn.over_sampling import SMOTE\n",
        "smote = SMOTE(sampling_strategy = 1)\n",
        "X_train, y_train = smote.fit_resample(X_dummy,y_train)"
      ],
      "execution_count": null,
      "outputs": [
        {
          "output_type": "stream",
          "name": "stderr",
          "text": [
            "/usr/local/lib/python3.7/dist-packages/sklearn/utils/deprecation.py:87: FutureWarning: Function safe_indexing is deprecated; safe_indexing is deprecated in version 0.22 and will be removed in version 0.24.\n",
            "  warnings.warn(msg, category=FutureWarning)\n"
          ]
        }
      ]
    },
    {
      "cell_type": "code",
      "metadata": {
        "colab": {
          "base_uri": "https://localhost:8080/"
        },
        "id": "43ivjPaQBzZm",
        "outputId": "2f6ff3d5-9d1a-46d3-dc33-bae8ec2ccc9a"
      },
      "source": [
        "from imblearn.under_sampling import RandomUnderSampler\n",
        "undersampling = RandomUnderSampler(sampling_strategy=0.5)\n",
        "X_train, y_train = undersampling.fit_resample(X_train,y_train)"
      ],
      "execution_count": null,
      "outputs": [
        {
          "output_type": "stream",
          "name": "stderr",
          "text": [
            "/usr/local/lib/python3.7/dist-packages/sklearn/externals/six.py:31: FutureWarning: The module is deprecated in version 0.21 and will be removed in version 0.23 since we've dropped support for Python 2.7. Please rely on the official version of six (https://pypi.org/project/six/).\n",
            "  \"(https://pypi.org/project/six/).\", FutureWarning)\n",
            "/usr/local/lib/python3.7/dist-packages/sklearn/utils/deprecation.py:144: FutureWarning: The sklearn.neighbors.base module is  deprecated in version 0.22 and will be removed in version 0.24. The corresponding classes / functions should instead be imported from sklearn.neighbors. Anything that cannot be imported from sklearn.neighbors is now part of the private API.\n",
            "  warnings.warn(message, FutureWarning)\n",
            "/usr/local/lib/python3.7/dist-packages/sklearn/utils/deprecation.py:87: FutureWarning: Function safe_indexing is deprecated; safe_indexing is deprecated in version 0.22 and will be removed in version 0.24.\n",
            "  warnings.warn(msg, category=FutureWarning)\n"
          ]
        }
      ]
    },
    {
      "cell_type": "markdown",
      "metadata": {
        "id": "-zfEzkRVXIwF"
      },
      "source": [
        "## Part 2 - Building the ANN"
      ]
    },
    {
      "cell_type": "markdown",
      "metadata": {
        "id": "KvdeScabXtlB"
      },
      "source": [
        "### Initializing the ANN"
      ]
    },
    {
      "cell_type": "code",
      "metadata": {
        "id": "3dtrScHxXQox"
      },
      "source": [
        "ann = tf.keras.models.Sequential()\n",
        "ann.add(tf.keras.layers.Dense(units=11, activation='relu',kernel_initializer = 'he_uniform'))\n",
        "ann.add(tf.keras.layers.Dropout(.2, input_shape=(11,)))\n",
        "ann.add(tf.keras.layers.Dense(units=7, activation='relu', kernel_initializer = 'he_uniform'))\n",
        "ann.add(tf.keras.layers.Dropout(.2))\n",
        "ann.add(tf.keras.layers.Dense(units=3, activation='relu',kernel_initializer = 'he_uniform'))\n",
        "ann.add(tf.keras.layers.Dropout(.2))\n",
        "ann.add(tf.keras.layers.Dense(units=1, activation='sigmoid', kernel_initializer = 'glorot_uniform'))"
      ],
      "execution_count": null,
      "outputs": []
    },
    {
      "cell_type": "markdown",
      "metadata": {
        "id": "JT4u2S1_Y4WG"
      },
      "source": [
        "## Part 3 - Training the ANN"
      ]
    },
    {
      "cell_type": "markdown",
      "metadata": {
        "id": "8GWlJChhY_ZI"
      },
      "source": [
        "### Compiling the ANN"
      ]
    },
    {
      "cell_type": "code",
      "metadata": {
        "id": "fG3RrwDXZEaS"
      },
      "source": [
        "ann.compile(optimizer = 'adam', loss = 'binary_crossentropy', metrics = ['accuracy'])"
      ],
      "execution_count": null,
      "outputs": []
    },
    {
      "cell_type": "markdown",
      "metadata": {
        "id": "0QR_G5u7ZLSM"
      },
      "source": [
        "### Training the ANN on the Training set"
      ]
    },
    {
      "cell_type": "code",
      "metadata": {
        "colab": {
          "base_uri": "https://localhost:8080/"
        },
        "id": "nHZ-LKv_ZRb3",
        "outputId": "efad7a57-d134-4b7f-a960-5582af904ecc"
      },
      "source": [
        "model_history = ann.fit(X_train, y_train, batch_size = 8, epochs = 100)\n"
      ],
      "execution_count": null,
      "outputs": [
        {
          "output_type": "stream",
          "name": "stdout",
          "text": [
            "Epoch 1/100\n",
            "830/830 [==============================] - 2s 2ms/step - loss: 0.6967 - accuracy: 0.5301\n",
            "Epoch 2/100\n",
            "830/830 [==============================] - 1s 2ms/step - loss: 0.6645 - accuracy: 0.5962\n",
            "Epoch 3/100\n",
            "830/830 [==============================] - 1s 2ms/step - loss: 0.6361 - accuracy: 0.6390\n",
            "Epoch 4/100\n",
            "830/830 [==============================] - 1s 2ms/step - loss: 0.6130 - accuracy: 0.6633\n",
            "Epoch 5/100\n",
            "830/830 [==============================] - 1s 1ms/step - loss: 0.5847 - accuracy: 0.6961\n",
            "Epoch 6/100\n",
            "830/830 [==============================] - 1s 1ms/step - loss: 0.5814 - accuracy: 0.6995\n",
            "Epoch 7/100\n",
            "830/830 [==============================] - 1s 1ms/step - loss: 0.5660 - accuracy: 0.7155\n",
            "Epoch 8/100\n",
            "830/830 [==============================] - 1s 1ms/step - loss: 0.5552 - accuracy: 0.7184\n",
            "Epoch 9/100\n",
            "830/830 [==============================] - 1s 1ms/step - loss: 0.5535 - accuracy: 0.7259\n",
            "Epoch 10/100\n",
            "830/830 [==============================] - 1s 1ms/step - loss: 0.5421 - accuracy: 0.7291\n",
            "Epoch 11/100\n",
            "830/830 [==============================] - 1s 1ms/step - loss: 0.5381 - accuracy: 0.7316\n",
            "Epoch 12/100\n",
            "830/830 [==============================] - 1s 2ms/step - loss: 0.5405 - accuracy: 0.7315\n",
            "Epoch 13/100\n",
            "830/830 [==============================] - 1s 1ms/step - loss: 0.5288 - accuracy: 0.7361\n",
            "Epoch 14/100\n",
            "830/830 [==============================] - 1s 1ms/step - loss: 0.5298 - accuracy: 0.7443\n",
            "Epoch 15/100\n",
            "830/830 [==============================] - 1s 1ms/step - loss: 0.5245 - accuracy: 0.7407\n",
            "Epoch 16/100\n",
            "830/830 [==============================] - 1s 1ms/step - loss: 0.5265 - accuracy: 0.7452\n",
            "Epoch 17/100\n",
            "830/830 [==============================] - 1s 1ms/step - loss: 0.5269 - accuracy: 0.7485\n",
            "Epoch 18/100\n",
            "830/830 [==============================] - 1s 1ms/step - loss: 0.5247 - accuracy: 0.7489\n",
            "Epoch 19/100\n",
            "830/830 [==============================] - 1s 1ms/step - loss: 0.5190 - accuracy: 0.7523\n",
            "Epoch 20/100\n",
            "830/830 [==============================] - 1s 1ms/step - loss: 0.5192 - accuracy: 0.7453\n",
            "Epoch 21/100\n",
            "830/830 [==============================] - 1s 1ms/step - loss: 0.5254 - accuracy: 0.7488\n",
            "Epoch 22/100\n",
            "830/830 [==============================] - 1s 1ms/step - loss: 0.5182 - accuracy: 0.7489\n",
            "Epoch 23/100\n",
            "830/830 [==============================] - 1s 1ms/step - loss: 0.5191 - accuracy: 0.7515\n",
            "Epoch 24/100\n",
            "830/830 [==============================] - 1s 1ms/step - loss: 0.5227 - accuracy: 0.7509\n",
            "Epoch 25/100\n",
            "830/830 [==============================] - 1s 1ms/step - loss: 0.5150 - accuracy: 0.7520\n",
            "Epoch 26/100\n",
            "830/830 [==============================] - 1s 2ms/step - loss: 0.5160 - accuracy: 0.7471\n",
            "Epoch 27/100\n",
            "830/830 [==============================] - 1s 2ms/step - loss: 0.5163 - accuracy: 0.7548\n",
            "Epoch 28/100\n",
            "830/830 [==============================] - 1s 1ms/step - loss: 0.5124 - accuracy: 0.7500\n",
            "Epoch 29/100\n",
            "830/830 [==============================] - 1s 1ms/step - loss: 0.5126 - accuracy: 0.7563\n",
            "Epoch 30/100\n",
            "830/830 [==============================] - 1s 1ms/step - loss: 0.5151 - accuracy: 0.7536\n",
            "Epoch 31/100\n",
            "830/830 [==============================] - 1s 2ms/step - loss: 0.5056 - accuracy: 0.7613\n",
            "Epoch 32/100\n",
            "830/830 [==============================] - 1s 1ms/step - loss: 0.5134 - accuracy: 0.7539\n",
            "Epoch 33/100\n",
            "830/830 [==============================] - 1s 1ms/step - loss: 0.5140 - accuracy: 0.7575\n",
            "Epoch 34/100\n",
            "830/830 [==============================] - 1s 1ms/step - loss: 0.5122 - accuracy: 0.7580\n",
            "Epoch 35/100\n",
            "830/830 [==============================] - 1s 1ms/step - loss: 0.5105 - accuracy: 0.7542\n",
            "Epoch 36/100\n",
            "830/830 [==============================] - 1s 1ms/step - loss: 0.5076 - accuracy: 0.7542\n",
            "Epoch 37/100\n",
            "830/830 [==============================] - 1s 1ms/step - loss: 0.5104 - accuracy: 0.7551\n",
            "Epoch 38/100\n",
            "830/830 [==============================] - 1s 1ms/step - loss: 0.5153 - accuracy: 0.7554\n",
            "Epoch 39/100\n",
            "830/830 [==============================] - 1s 1ms/step - loss: 0.5083 - accuracy: 0.7607\n",
            "Epoch 40/100\n",
            "830/830 [==============================] - 1s 1ms/step - loss: 0.5062 - accuracy: 0.7593\n",
            "Epoch 41/100\n",
            "830/830 [==============================] - 1s 1ms/step - loss: 0.5073 - accuracy: 0.7639\n",
            "Epoch 42/100\n",
            "830/830 [==============================] - 1s 1ms/step - loss: 0.5117 - accuracy: 0.7563\n",
            "Epoch 43/100\n",
            "830/830 [==============================] - 1s 1ms/step - loss: 0.5050 - accuracy: 0.7578\n",
            "Epoch 44/100\n",
            "830/830 [==============================] - 1s 1ms/step - loss: 0.5036 - accuracy: 0.7599\n",
            "Epoch 45/100\n",
            "830/830 [==============================] - 1s 2ms/step - loss: 0.5084 - accuracy: 0.7574\n",
            "Epoch 46/100\n",
            "830/830 [==============================] - 1s 2ms/step - loss: 0.5036 - accuracy: 0.7538\n",
            "Epoch 47/100\n",
            "830/830 [==============================] - 1s 2ms/step - loss: 0.5108 - accuracy: 0.7527\n",
            "Epoch 48/100\n",
            "830/830 [==============================] - 1s 1ms/step - loss: 0.5067 - accuracy: 0.7562\n",
            "Epoch 49/100\n",
            "830/830 [==============================] - 1s 1ms/step - loss: 0.5015 - accuracy: 0.7625\n",
            "Epoch 50/100\n",
            "830/830 [==============================] - 1s 1ms/step - loss: 0.5067 - accuracy: 0.7587\n",
            "Epoch 51/100\n",
            "830/830 [==============================] - 1s 1ms/step - loss: 0.5080 - accuracy: 0.7580\n",
            "Epoch 52/100\n",
            "830/830 [==============================] - 1s 2ms/step - loss: 0.5117 - accuracy: 0.7547\n",
            "Epoch 53/100\n",
            "830/830 [==============================] - 1s 1ms/step - loss: 0.4993 - accuracy: 0.7620\n",
            "Epoch 54/100\n",
            "830/830 [==============================] - 1s 2ms/step - loss: 0.5024 - accuracy: 0.7562\n",
            "Epoch 55/100\n",
            "830/830 [==============================] - 1s 2ms/step - loss: 0.5069 - accuracy: 0.7602\n",
            "Epoch 56/100\n",
            "830/830 [==============================] - 1s 2ms/step - loss: 0.4989 - accuracy: 0.7598\n",
            "Epoch 57/100\n",
            "830/830 [==============================] - 1s 1ms/step - loss: 0.5049 - accuracy: 0.7571\n",
            "Epoch 58/100\n",
            "830/830 [==============================] - 1s 1ms/step - loss: 0.5085 - accuracy: 0.7601\n",
            "Epoch 59/100\n",
            "830/830 [==============================] - 1s 2ms/step - loss: 0.5022 - accuracy: 0.7643\n",
            "Epoch 60/100\n",
            "830/830 [==============================] - 1s 2ms/step - loss: 0.5068 - accuracy: 0.7634\n",
            "Epoch 61/100\n",
            "830/830 [==============================] - 1s 2ms/step - loss: 0.5007 - accuracy: 0.7589\n",
            "Epoch 62/100\n",
            "830/830 [==============================] - 1s 2ms/step - loss: 0.5062 - accuracy: 0.7660\n",
            "Epoch 63/100\n",
            "830/830 [==============================] - 1s 1ms/step - loss: 0.5073 - accuracy: 0.7583\n",
            "Epoch 64/100\n",
            "830/830 [==============================] - 1s 1ms/step - loss: 0.4973 - accuracy: 0.7551\n",
            "Epoch 65/100\n",
            "830/830 [==============================] - 1s 1ms/step - loss: 0.4956 - accuracy: 0.7639\n",
            "Epoch 66/100\n",
            "830/830 [==============================] - 1s 1ms/step - loss: 0.4994 - accuracy: 0.7652\n",
            "Epoch 67/100\n",
            "830/830 [==============================] - 1s 1ms/step - loss: 0.5015 - accuracy: 0.7616\n",
            "Epoch 68/100\n",
            "830/830 [==============================] - 1s 2ms/step - loss: 0.5033 - accuracy: 0.7625\n",
            "Epoch 69/100\n",
            "830/830 [==============================] - 1s 1ms/step - loss: 0.5010 - accuracy: 0.7578\n",
            "Epoch 70/100\n",
            "830/830 [==============================] - 1s 2ms/step - loss: 0.4981 - accuracy: 0.7652\n",
            "Epoch 71/100\n",
            "830/830 [==============================] - 1s 1ms/step - loss: 0.4990 - accuracy: 0.7613\n",
            "Epoch 72/100\n",
            "830/830 [==============================] - 1s 2ms/step - loss: 0.4976 - accuracy: 0.7619\n",
            "Epoch 73/100\n",
            "830/830 [==============================] - 1s 1ms/step - loss: 0.4958 - accuracy: 0.7610\n",
            "Epoch 74/100\n",
            "830/830 [==============================] - 1s 2ms/step - loss: 0.5026 - accuracy: 0.7617\n",
            "Epoch 75/100\n",
            "830/830 [==============================] - 1s 1ms/step - loss: 0.4990 - accuracy: 0.7598\n",
            "Epoch 76/100\n",
            "830/830 [==============================] - 1s 2ms/step - loss: 0.5024 - accuracy: 0.7563\n",
            "Epoch 77/100\n",
            "830/830 [==============================] - 1s 1ms/step - loss: 0.4976 - accuracy: 0.7639\n",
            "Epoch 78/100\n",
            "830/830 [==============================] - 1s 1ms/step - loss: 0.4954 - accuracy: 0.7627\n",
            "Epoch 79/100\n",
            "830/830 [==============================] - 1s 2ms/step - loss: 0.4947 - accuracy: 0.7669\n",
            "Epoch 80/100\n",
            "830/830 [==============================] - 1s 1ms/step - loss: 0.4923 - accuracy: 0.7652\n",
            "Epoch 81/100\n",
            "830/830 [==============================] - 1s 1ms/step - loss: 0.4963 - accuracy: 0.7654\n",
            "Epoch 82/100\n",
            "830/830 [==============================] - 1s 1ms/step - loss: 0.4929 - accuracy: 0.7646\n",
            "Epoch 83/100\n",
            "830/830 [==============================] - 1s 2ms/step - loss: 0.4987 - accuracy: 0.7616\n",
            "Epoch 84/100\n",
            "830/830 [==============================] - 1s 1ms/step - loss: 0.4984 - accuracy: 0.7587\n",
            "Epoch 85/100\n",
            "830/830 [==============================] - 1s 1ms/step - loss: 0.5000 - accuracy: 0.7547\n",
            "Epoch 86/100\n",
            "830/830 [==============================] - 1s 2ms/step - loss: 0.4910 - accuracy: 0.7676\n",
            "Epoch 87/100\n",
            "830/830 [==============================] - 1s 2ms/step - loss: 0.4954 - accuracy: 0.7658\n",
            "Epoch 88/100\n",
            "830/830 [==============================] - 1s 1ms/step - loss: 0.4990 - accuracy: 0.7633\n",
            "Epoch 89/100\n",
            "830/830 [==============================] - 1s 1ms/step - loss: 0.5003 - accuracy: 0.7676\n",
            "Epoch 90/100\n",
            "830/830 [==============================] - 1s 1ms/step - loss: 0.4974 - accuracy: 0.7649\n",
            "Epoch 91/100\n",
            "830/830 [==============================] - 1s 1ms/step - loss: 0.4968 - accuracy: 0.7593\n",
            "Epoch 92/100\n",
            "830/830 [==============================] - 1s 1ms/step - loss: 0.4967 - accuracy: 0.7611\n",
            "Epoch 93/100\n",
            "830/830 [==============================] - 1s 1ms/step - loss: 0.4953 - accuracy: 0.7634\n",
            "Epoch 94/100\n",
            "830/830 [==============================] - 1s 2ms/step - loss: 0.4966 - accuracy: 0.7602\n",
            "Epoch 95/100\n",
            "830/830 [==============================] - 1s 2ms/step - loss: 0.5027 - accuracy: 0.7553\n",
            "Epoch 96/100\n",
            "830/830 [==============================] - 1s 1ms/step - loss: 0.4982 - accuracy: 0.7660\n",
            "Epoch 97/100\n",
            "830/830 [==============================] - 1s 2ms/step - loss: 0.4990 - accuracy: 0.7601\n",
            "Epoch 98/100\n",
            "830/830 [==============================] - 1s 1ms/step - loss: 0.4934 - accuracy: 0.7649\n",
            "Epoch 99/100\n",
            "830/830 [==============================] - 1s 2ms/step - loss: 0.4919 - accuracy: 0.7620\n",
            "Epoch 100/100\n",
            "830/830 [==============================] - 1s 1ms/step - loss: 0.4973 - accuracy: 0.7599\n"
          ]
        }
      ]
    },
    {
      "cell_type": "code",
      "metadata": {
        "colab": {
          "base_uri": "https://localhost:8080/"
        },
        "id": "onyDE4zPGTlJ",
        "outputId": "9554fdfd-97df-436e-d5d6-3a743dca5119"
      },
      "source": [
        "print(model_history.history.keys())\n"
      ],
      "execution_count": null,
      "outputs": [
        {
          "name": "stdout",
          "output_type": "stream",
          "text": [
            "dict_keys(['loss', 'accuracy'])\n"
          ]
        }
      ]
    },
    {
      "cell_type": "code",
      "metadata": {
        "colab": {
          "base_uri": "https://localhost:8080/",
          "height": 294
        },
        "id": "pDb0BchSFbNR",
        "outputId": "93c76376-a36b-4a61-ca72-3c84f3d3b26f"
      },
      "source": [
        "# summarize history for accuracy\n",
        "plt.plot(model_history.history['accuracy'])\n",
        "# plt.plot(model_history.history['val_accuracy'])\n",
        "plt.title('model accuracy')\n",
        "plt.ylabel('accuracy')\n",
        "plt.xlabel('epoch')\n",
        "plt.legend(['train', 'test'], loc='upper left')\n",
        "plt.show()"
      ],
      "execution_count": null,
      "outputs": [
        {
          "data": {
            "image/png": "[encoded data removed]",
            "text/plain": [
              "<Figure size 432x288 with 1 Axes>"
            ]
          },
          "metadata": {},
          "output_type": "display_data"
        }
      ]
    },
    {
      "cell_type": "markdown",
      "metadata": {
        "id": "tJj5k2MxZga3"
      },
      "source": [
        "## Part 4 - Making the predictions and evaluating the model"
      ]
    },
    {
      "cell_type": "markdown",
      "metadata": {
        "id": "FqhfqpxJQi6r"
      },
      "source": [
        "### Predicting the Train set results"
      ]
    },
    {
      "cell_type": "code",
      "metadata": {
        "id": "RXEnACwNQiHy"
      },
      "source": [
        "y_train_pred = ann.predict(X_train)\n",
        "y_train_pred = [0 if i < 0.5 else 1 for i in y_train_pred]\n",
        "\n",
        "compare = pd.DataFrame(np.array(y_train), columns=['Actual'])\n",
        "compare['Predicted'] = y_train_pred"
      ],
      "execution_count": null,
      "outputs": []
    },
    {
      "cell_type": "markdown",
      "metadata": {
        "id": "u7yx47jPZt11"
      },
      "source": [
        "### Predicting the Test set results"
      ]
    },
    {
      "cell_type": "code",
      "metadata": {
        "id": "nIyEeQdRZwgs"
      },
      "source": [
        "y_test_pred = ann.predict(X_test)\n",
        "y_test_pred = [0 if i < 0.5 else 1 for i in y_test_pred]\n",
        "\n",
        "compare = pd.DataFrame(np.array(y_test), columns=['Actual'])\n",
        "compare['Predicted'] = y_test_pred"
      ],
      "execution_count": null,
      "outputs": []
    },
    {
      "cell_type": "code",
      "metadata": {
        "colab": {
          "base_uri": "https://localhost:8080/",
          "height": 423
        },
        "id": "nalMduMINXs7",
        "outputId": "569a3674-a01e-40c5-836f-182cf21ce36d"
      },
      "source": [
        "compare"
      ],
      "execution_count": null,
      "outputs": [
        {
          "output_type": "execute_result",
          "data": {
            "text/html": [
              "<div>\n",
              "<style scoped>\n",
              "    .dataframe tbody tr th:only-of-type {\n",
              "        vertical-align: middle;\n",
              "    }\n",
              "\n",
              "    .dataframe tbody tr th {\n",
              "        vertical-align: top;\n",
              "    }\n",
              "\n",
              "    .dataframe thead th {\n",
              "        text-align: right;\n",
              "    }\n",
              "</style>\n",
              "<table border=\"1\" class=\"dataframe\">\n",
              "  <thead>\n",
              "    <tr style=\"text-align: right;\">\n",
              "      <th></th>\n",
              "      <th>Actual</th>\n",
              "      <th>Predicted</th>\n",
              "    </tr>\n",
              "  </thead>\n",
              "  <tbody>\n",
              "    <tr>\n",
              "      <th>0</th>\n",
              "      <td>0</td>\n",
              "      <td>0</td>\n",
              "    </tr>\n",
              "    <tr>\n",
              "      <th>1</th>\n",
              "      <td>0</td>\n",
              "      <td>0</td>\n",
              "    </tr>\n",
              "    <tr>\n",
              "      <th>2</th>\n",
              "      <td>0</td>\n",
              "      <td>0</td>\n",
              "    </tr>\n",
              "    <tr>\n",
              "      <th>3</th>\n",
              "      <td>0</td>\n",
              "      <td>0</td>\n",
              "    </tr>\n",
              "    <tr>\n",
              "      <th>4</th>\n",
              "      <td>0</td>\n",
              "      <td>0</td>\n",
              "    </tr>\n",
              "    <tr>\n",
              "      <th>...</th>\n",
              "      <td>...</td>\n",
              "      <td>...</td>\n",
              "    </tr>\n",
              "    <tr>\n",
              "      <th>1995</th>\n",
              "      <td>0</td>\n",
              "      <td>0</td>\n",
              "    </tr>\n",
              "    <tr>\n",
              "      <th>1996</th>\n",
              "      <td>0</td>\n",
              "      <td>0</td>\n",
              "    </tr>\n",
              "    <tr>\n",
              "      <th>1997</th>\n",
              "      <td>0</td>\n",
              "      <td>0</td>\n",
              "    </tr>\n",
              "    <tr>\n",
              "      <th>1998</th>\n",
              "      <td>0</td>\n",
              "      <td>0</td>\n",
              "    </tr>\n",
              "    <tr>\n",
              "      <th>1999</th>\n",
              "      <td>0</td>\n",
              "      <td>0</td>\n",
              "    </tr>\n",
              "  </tbody>\n",
              "</table>\n",
              "<p>2000 rows × 2 columns</p>\n",
              "</div>"
            ],
            "text/plain": [
              "      Actual  Predicted\n",
              "0          0          0\n",
              "1          0          0\n",
              "2          0          0\n",
              "3          0          0\n",
              "4          0          0\n",
              "...      ...        ...\n",
              "1995       0          0\n",
              "1996       0          0\n",
              "1997       0          0\n",
              "1998       0          0\n",
              "1999       0          0\n",
              "\n",
              "[2000 rows x 2 columns]"
            ]
          },
          "metadata": {},
          "execution_count": 17
        }
      ]
    },
    {
      "cell_type": "markdown",
      "metadata": {
        "id": "o0oyfLWoaEGw"
      },
      "source": [
        "### Making the Confusion Matrix"
      ]
    },
    {
      "cell_type": "code",
      "metadata": {
        "id": "ci6K_r6LaF6P"
      },
      "source": [
        "def classification_eval (aktual, prediksi, name):\n",
        "    cm = confusion_matrix(aktual, prediksi)\n",
        "    tp = cm[1][1]\n",
        "    tn = cm[0][0]\n",
        "    fp = cm[0][1]\n",
        "    fn = cm[1][0]\n",
        "    \n",
        "    accuracy = round((tp+tn) / (tp+tn+fp+fn) * 100, 2)\n",
        "    precision = round((tp) / (tp+fp) * 100, 2)\n",
        "    recall = round((tp) / (tp+fn) * 100, 2)\n",
        "    specificity = round((tn) / (tn+fp) * 100, 2)\n",
        "    npv = round((tn) / (tn+fn) * 100, 2)\n",
        "    \n",
        "    print('Evaluation Model:', name)\n",
        "    print(cm)\n",
        "    print('Accuracy   :', accuracy, '%')\n",
        "    print('Precision  :', precision, '%')\n",
        "    print('Recall     :', recall, '%')\n",
        "    print('Specificity:', specificity, '%')\n",
        "    print('NPV        :', npv, '%')"
      ],
      "execution_count": null,
      "outputs": []
    },
    {
      "cell_type": "code",
      "metadata": {
        "colab": {
          "base_uri": "https://localhost:8080/"
        },
        "id": "MKMYwaUNQIQL",
        "outputId": "b09d508f-bada-451a-cc2d-85d3d61dc55f"
      },
      "source": [
        "from sklearn.metrics import confusion_matrix\n",
        "# Training Performance\n",
        "classification_eval(y_train, y_train_pred, 'ANN Training Perf.')"
      ],
      "execution_count": null,
      "outputs": [
        {
          "output_type": "stream",
          "name": "stdout",
          "text": [
            "Evaluation Model: ANN Training Perf.\n",
            "[[2673  647]\n",
            " [ 727 2593]]\n",
            "Accuracy   : 79.31 %\n",
            "Precision  : 80.03 %\n",
            "Recall     : 78.1 %\n",
            "Specificity: 80.51 %\n",
            "NPV        : 78.62 %\n"
          ]
        }
      ]
    },
    {
      "cell_type": "code",
      "metadata": {
        "colab": {
          "base_uri": "https://localhost:8080/"
        },
        "id": "Jr8U-ioxQRDF",
        "outputId": "3a8699e4-8759-49fd-ac27-36d5088c1c40"
      },
      "source": [
        "# Testing Performance\n",
        "classification_eval(y_test, y_test_pred, 'ANN Testing Perf.')"
      ],
      "execution_count": null,
      "outputs": [
        {
          "output_type": "stream",
          "name": "stdout",
          "text": [
            "Evaluation Model: ANN Testing Perf.\n",
            "[[1312  311]\n",
            " [ 107  270]]\n",
            "Accuracy   : 79.1 %\n",
            "Precision  : 46.47 %\n",
            "Recall     : 71.62 %\n",
            "Specificity: 80.84 %\n",
            "NPV        : 92.46 %\n"
          ]
        }
      ]
    }
  ]
}